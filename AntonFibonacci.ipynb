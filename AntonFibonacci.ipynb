{
  "nbformat": 4,
  "nbformat_minor": 0,
  "metadata": {
    "colab": {
      "provenance": [],
      "authorship_tag": "ABX9TyNP02kMc6JoWF+G8Cf+Tp8O",
      "include_colab_link": true
    },
    "kernelspec": {
      "name": "python3",
      "display_name": "Python 3"
    },
    "language_info": {
      "name": "python"
    }
  },
  "cells": [
    {
      "cell_type": "markdown",
      "metadata": {
        "id": "view-in-github",
        "colab_type": "text"
      },
      "source": [
        "<a href=\"https://colab.research.google.com/github/danielbauer1979/AntonsPrograms/blob/main/AntonFibonacci.ipynb\" target=\"_parent\"><img src=\"https://colab.research.google.com/assets/colab-badge.svg\" alt=\"Open In Colab\"/></a>"
      ]
    },
    {
      "cell_type": "markdown",
      "source": [
        "## First Three Fibonacci Numbers"
      ],
      "metadata": {
        "id": "3NqYTyf0nPGO"
      }
    },
    {
      "cell_type": "code",
      "execution_count": null,
      "metadata": {
        "id": "luW5fTaVmY4T"
      },
      "outputs": [],
      "source": [
        "first_fib = 1\n",
        "second_fib = 1"
      ]
    },
    {
      "cell_type": "code",
      "source": [
        "third_fib = first_fib + second_fib\n",
        "third_fib"
      ],
      "metadata": {
        "colab": {
          "base_uri": "https://localhost:8080/"
        },
        "id": "PfjWPSPAm1BN",
        "outputId": "277874d7-efc8-4550-f3c9-a60e071cd258"
      },
      "execution_count": null,
      "outputs": [
        {
          "output_type": "execute_result",
          "data": {
            "text/plain": [
              "2"
            ]
          },
          "metadata": {},
          "execution_count": 2
        }
      ]
    },
    {
      "cell_type": "code",
      "source": [
        "fourth_fib = second_fib + third_fib\n",
        "print(fourth_fib)"
      ],
      "metadata": {
        "colab": {
          "base_uri": "https://localhost:8080/"
        },
        "id": "liUeoWwem8YC",
        "outputId": "e316b966-a92d-42e6-e4d0-2a04e0d3a36f"
      },
      "execution_count": null,
      "outputs": [
        {
          "output_type": "stream",
          "name": "stdout",
          "text": [
            "3\n"
          ]
        }
      ]
    },
    {
      "cell_type": "markdown",
      "source": [
        "## Higher Fibonacci Numbers\n",
        "\n",
        "Let's write a program, that calculates the first 50 Fibonacci numbers"
      ],
      "metadata": {
        "id": "YTScbHfWnUN0"
      }
    },
    {
      "cell_type": "code",
      "source": [
        "fminone = 1\n",
        "fcurrent = 1"
      ],
      "metadata": {
        "id": "niV1_ZqlnTSN"
      },
      "execution_count": null,
      "outputs": []
    },
    {
      "cell_type": "code",
      "source": [
        "a = fminone\n",
        "b = fcurrent\n",
        "fcurrent = a + b\n",
        "fminone = b\n",
        "print(fminone,fcurrent)"
      ],
      "metadata": {
        "colab": {
          "base_uri": "https://localhost:8080/"
        },
        "id": "SgbmvJXPoP32",
        "outputId": "fdaf180a-b963-4c45-e023-5a262ad73b9b"
      },
      "execution_count": null,
      "outputs": [
        {
          "output_type": "stream",
          "name": "stdout",
          "text": [
            "1 2\n"
          ]
        }
      ]
    },
    {
      "cell_type": "code",
      "source": [
        "a = fminone\n",
        "b = fcurrent\n",
        "fcurrent = a + b\n",
        "fminone = b\n",
        "print(fminone,fcurrent)"
      ],
      "metadata": {
        "colab": {
          "base_uri": "https://localhost:8080/"
        },
        "id": "vSuWkHGAokHK",
        "outputId": "c89f69cb-9186-4f92-8537-86b1f4cf5ea9"
      },
      "execution_count": null,
      "outputs": [
        {
          "output_type": "stream",
          "name": "stdout",
          "text": [
            "2 3\n"
          ]
        }
      ]
    },
    {
      "cell_type": "code",
      "source": [
        "a = fminone\n",
        "b = fcurrent\n",
        "fcurrent = a + b\n",
        "fminone = b\n",
        "print(fminone,fcurrent)"
      ],
      "metadata": {
        "colab": {
          "base_uri": "https://localhost:8080/"
        },
        "id": "47gpYm0cooZe",
        "outputId": "b8df9e7b-fd9c-4bc8-f652-516b161e625e"
      },
      "execution_count": null,
      "outputs": [
        {
          "output_type": "stream",
          "name": "stdout",
          "text": [
            "3 5\n"
          ]
        }
      ]
    },
    {
      "cell_type": "markdown",
      "source": [
        "Let's try a for loop:"
      ],
      "metadata": {
        "id": "W8V9_aKSpAm1"
      }
    },
    {
      "cell_type": "code",
      "source": [
        "fminone = 1\n",
        "fcurrent = 1\n",
        "\n",
        "for i in range(13):\n",
        "  a = fminone\n",
        "  b = fcurrent\n",
        "  fcurrent = a + b\n",
        "  fminone = b\n",
        "  print(fminone,fcurrent)"
      ],
      "metadata": {
        "colab": {
          "base_uri": "https://localhost:8080/"
        },
        "id": "elQFFHHpotE9",
        "outputId": "ac988029-f1a2-41e9-950b-546b533d4f26"
      },
      "execution_count": null,
      "outputs": [
        {
          "output_type": "stream",
          "name": "stdout",
          "text": [
            "1 2\n",
            "2 3\n",
            "3 5\n",
            "5 8\n",
            "8 13\n",
            "13 21\n",
            "21 34\n",
            "34 55\n",
            "55 89\n",
            "89 144\n",
            "144 233\n",
            "233 377\n",
            "377 610\n"
          ]
        }
      ]
    },
    {
      "cell_type": "code",
      "source": [
        "def fibfunc(f1):\n",
        "  if (f1 == 1):\n",
        "      return 1\n",
        "  elif (f1 == 2):\n",
        "      return 1\n",
        "  else:\n",
        "    return(fibfunc(f1-1)+fibfunc(f1 - 2))"
      ],
      "metadata": {
        "id": "hyBYMFYEpZOf"
      },
      "execution_count": null,
      "outputs": []
    },
    {
      "cell_type": "code",
      "source": [
        "print(fibfunc(15))"
      ],
      "metadata": {
        "colab": {
          "base_uri": "https://localhost:8080/"
        },
        "id": "iu7O8qNUqPXY",
        "outputId": "f2d8155b-9066-4532-f987-30f91c014528"
      },
      "execution_count": null,
      "outputs": [
        {
          "output_type": "stream",
          "name": "stdout",
          "text": [
            "610\n"
          ]
        }
      ]
    }
  ]
}