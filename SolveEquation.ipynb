{
  "nbformat": 4,
  "nbformat_minor": 0,
  "metadata": {
    "colab": {
      "provenance": [],
      "authorship_tag": "ABX9TyM28U6nbERKui8nyDCfCbWN",
      "include_colab_link": true
    },
    "kernelspec": {
      "name": "python3",
      "display_name": "Python 3"
    },
    "language_info": {
      "name": "python"
    }
  },
  "cells": [
    {
      "cell_type": "markdown",
      "metadata": {
        "id": "view-in-github",
        "colab_type": "text"
      },
      "source": [
        "<a href=\"https://colab.research.google.com/github/danielbauer1979/AntonsPrograms/blob/main/SolveEquation.ipynb\" target=\"_parent\"><img src=\"https://colab.research.google.com/assets/colab-badge.svg\" alt=\"Open In Colab\"/></a>"
      ]
    },
    {
      "cell_type": "markdown",
      "source": [
        "## Solve Equation\n",
        "\n"
      ],
      "metadata": {
        "id": "FqloBeXg72Az"
      }
    },
    {
      "cell_type": "markdown",
      "source": [
        "We want to solve the equation:\n",
        "$1.375375 * x = 33333333333$\n",
        "\n",
        "We asked chatGPT and got some code that we changed:"
      ],
      "metadata": {
        "id": "Mvp6BUVr_jDI"
      }
    },
    {
      "cell_type": "code",
      "source": [
        "from sympy import symbols, Eq, solve\n",
        "\n",
        "# Define the variables\n",
        "x = symbols('x')\n",
        "\n",
        "# Define the equation\n",
        "equation = Eq(1.375375 * x, 33333333333)\n",
        "\n",
        "# Solve the equation\n",
        "solution = solve(equation, x)\n",
        "\n",
        "print(\"Solution:\", solution)"
      ],
      "metadata": {
        "colab": {
          "base_uri": "https://localhost:8080/"
        },
        "id": "kBiLjbiU_CHP",
        "outputId": "22eb45dd-4ae2-4203-fd21-d09be5c503d1"
      },
      "execution_count": 16,
      "outputs": [
        {
          "output_type": "stream",
          "name": "stdout",
          "text": [
            "Solution: [24235814474.5978]\n"
          ]
        }
      ]
    }
  ]
}